{
  "nbformat": 4,
  "nbformat_minor": 0,
  "metadata": {
    "colab": {
      "provenance": []
    },
    "kernelspec": {
      "name": "python3",
      "display_name": "Python 3"
    },
    "language_info": {
      "name": "python"
    }
  },
  "cells": [
    {
      "cell_type": "code",
      "execution_count": null,
      "metadata": {
        "id": "KCa1n6agBqUv",
        "colab": {
          "base_uri": "https://localhost:8080/"
        },
        "outputId": "058bf74c-007f-47a9-a87a-9fa9b55b2001"
      },
      "outputs": [
        {
          "output_type": "stream",
          "name": "stdout",
          "text": [
            "Accuracy: 0.6298424861643253\n"
          ]
        }
      ],
      "source": [
        "# @title Default title text\n",
        "# prompt: women cloth reviews prediction with multi nomial naive bayes\n",
        "\n",
        "import pandas as pd\n",
        "import numpy as np\n",
        "from sklearn.naive_bayes import MultinomialNB\n",
        "from sklearn.preprocessing import LabelEncoder\n",
        "from sklearn.feature_extraction.text import CountVectorizer\n",
        "from sklearn.model_selection import train_test_split\n",
        "from sklearn.metrics import accuracy_score\n",
        "\n",
        "# Load the dataset\n",
        "df = pd.read_csv(\"https://github.com/KriAga/Women-Clothing-Review/raw/master/Womens%20Clothing%20E-Commerce%20Reviews.csv\")\n",
        "\n",
        "# Preprocess the data\n",
        "df[\"Review Text\"] = df[\"Review Text\"].str.lower()\n",
        "df[\"Review Text\"] = df[\"Review Text\"].str.replace(\"[^a-zA-Z0-9 ]\", \"\")\n",
        "\n",
        "# Handle missing values in 'Review Text' column by filling with empty string\n",
        "df[\"Review Text\"] = df[\"Review Text\"].fillna(\"\") # Fill NaN values with empty string\n",
        "\n",
        "# Encode the target variable\n",
        "le = LabelEncoder()\n",
        "df[\"Rating\"] = le.fit_transform(df[\"Rating\"])\n",
        "\n",
        "# Split the data into training and test sets\n",
        "X_train, X_test, y_train, y_test = train_test_split(df[\"Review Text\"], df[\"Rating\"], test_size=0.2)\n",
        "\n",
        "# Vectorize the text data\n",
        "vectorizer = CountVectorizer()\n",
        "X_train = vectorizer.fit_transform(X_train)\n",
        "X_test = vectorizer.transform(X_test)\n",
        "\n",
        "# Train the Multinomial Naive Bayes model\n",
        "clf = MultinomialNB()\n",
        "clf.fit(X_train, y_train)\n",
        "\n",
        "# Predict the ratings for the test set\n",
        "y_pred = clf.predict(X_test)\n",
        "\n",
        "# Evaluate the model accuracy\n",
        "accuracy = accuracy_score(y_test, y_pred)\n",
        "print(\"Accuracy:\", accuracy)\n"
      ]
    }
  ]
}